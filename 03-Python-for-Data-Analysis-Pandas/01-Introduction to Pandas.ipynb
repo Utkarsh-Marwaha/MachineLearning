{
 "cells": [
  {
   "cell_type": "markdown",
   "metadata": {},
   "source": [
    "# Pandas Library"
   ]
  },
  {
   "cell_type": "markdown",
   "metadata": {},
   "source": [
    "1. Pandas is an open source library which is built on the top of NumPy.\n",
    "2. It allows for fast analysis and data cleaning and preparation.\n",
    "3. It excels in performance and productivity.\n",
    "4. It also has built in data visualization features.\n",
    "5. It can work with a wide variety of sources."
   ]
  },
  {
   "cell_type": "markdown",
   "metadata": {},
   "source": [
    "# Introduction to Pandas "
   ]
  },
  {
   "cell_type": "markdown",
   "metadata": {},
   "source": [
    "In this section of the course we will learn how to use Pandas for data analysis. You can think of Pandas as an extremely powerful version of Excel, with a lot more features. In this section of the course, we will be discussing the following topics: -\n",
    "* Introduction to Pandas\n",
    "* Series\n",
    "* Data Frames\n",
    "* Missing Data\n",
    "* GroupBy\n",
    "* Merging, Joining and Concatenating\n",
    "* Operations\n",
    "* Data Input and Output"
   ]
  }
 ],
 "metadata": {
  "kernelspec": {
   "display_name": "Python 3",
   "language": "python",
   "name": "python3"
  },
  "language_info": {
   "codemirror_mode": {
    "name": "ipython",
    "version": 3
   },
   "file_extension": ".py",
   "mimetype": "text/x-python",
   "name": "python",
   "nbconvert_exporter": "python",
   "pygments_lexer": "ipython3",
   "version": "3.7.1"
  }
 },
 "nbformat": 4,
 "nbformat_minor": 2
}
