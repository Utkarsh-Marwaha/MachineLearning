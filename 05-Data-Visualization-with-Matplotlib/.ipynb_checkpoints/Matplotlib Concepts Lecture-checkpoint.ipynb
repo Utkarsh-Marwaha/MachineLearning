{
 "cells": [
  {
   "cell_type": "markdown",
   "metadata": {},
   "source": [
    "# Matplotlib Concepts Lecture"
   ]
  },
  {
   "cell_type": "markdown",
   "metadata": {},
   "source": [
    "## Introduction"
   ]
  },
  {
   "cell_type": "markdown",
   "metadata": {},
   "source": [
    "Matplotlib is the \"grandfather\" library of data visualization with Python. It was created by John Hunter. He create it to try and replicate Matlab's (another programming language) plotting capabilities in Python. So if you happen to be familiar with matlab, matplotlib will feel very natural.     \n",
    "\n",
    "It is an excellent 2D and 3D graphics library for generating scientific figures.     \n",
    "     \n",
    "     \n",
    "Some of the pros of Matplotlib are as follows: -\n",
    "* Generally easy to get started for simple plots\n",
    "* Support for custom labels and texts\n",
    "* Great control of every element in a figure\n",
    "* High-quality output in many formats\n",
    "* Very customizable in general\n",
    "     \n",
    "Matplotlib allows you to create reproducible figures programmatically. Let's learn how to use it! Before continuing this lecture, I encourage you just to explore the official Matplotlib web page: http://matplotlib.org/\n",
    "\n",
    "## Installation \n",
    "\n",
    "You'll need to install matplotlib first with either:\n",
    "\n",
    "    conda install matplotlib\n",
    "or\n",
    "    pip install matplotlib"
   ]
  },
  {
   "cell_type": "markdown",
   "metadata": {},
   "source": [
    "## Importing"
   ]
  },
  {
   "cell_type": "markdown",
   "metadata": {},
   "source": [
    "Import the `matplotlib.pyplot` module under the name `plt` (the tidy way):"
   ]
  },
  {
   "cell_type": "code",
   "execution_count": 24,
   "metadata": {},
   "outputs": [],
   "source": [
    "import matplotlib.pyplot as plt"
   ]
  },
  {
   "cell_type": "markdown",
   "metadata": {},
   "source": [
    "You'll also need to use this line to see plots in the notebook:"
   ]
  },
  {
   "cell_type": "code",
   "execution_count": 25,
   "metadata": {},
   "outputs": [],
   "source": [
    "%matplotlib inline"
   ]
  },
  {
   "cell_type": "markdown",
   "metadata": {},
   "source": [
    "That line is only for jupyter notebooks, if you are using another editor, you'll use: plt.show() at the end of all your plotting commands to have the figure pop up in another window."
   ]
  },
  {
   "cell_type": "markdown",
   "metadata": {},
   "source": [
    "# Basic Example "
   ]
  },
  {
   "cell_type": "markdown",
   "metadata": {},
   "source": [
    "Let us walk through a very simple example using two numpy arrays: -    \n",
    "You can also use lists, but most likely you'll be passing numpy arrays or pandas columns (which essentially also behave like arrays)."
   ]
  },
  {
   "cell_type": "code",
   "execution_count": 26,
   "metadata": {},
   "outputs": [],
   "source": [
    "import numpy as np"
   ]
  },
  {
   "cell_type": "code",
   "execution_count": 27,
   "metadata": {},
   "outputs": [
    {
     "name": "stdout",
     "output_type": "stream",
     "text": [
      "[0.  0.5 1.  1.5 2.  2.5 3.  3.5 4.  4.5 5. ]\n",
      "[ 0.    0.25  1.    2.25  4.    6.25  9.   12.25 16.   20.25 25.  ]\n"
     ]
    }
   ],
   "source": [
    "x = np.linspace(start=0, stop=5, num=11)\n",
    "print(x)\n",
    "\n",
    "y = x ** 2\n",
    "print(y)"
   ]
  },
  {
   "cell_type": "markdown",
   "metadata": {},
   "source": [
    "## Basic Matplotlib Commands\n"
   ]
  },
  {
   "cell_type": "markdown",
   "metadata": {},
   "source": [
    "We can create a very simple line plot using the following: - (I encourage you to use Shift + Tab along the way to check out the document strings for the functions we're using)"
   ]
  },
  {
   "cell_type": "markdown",
   "metadata": {},
   "source": [
    "Basic matplotlib commands allow you to very quickly create plots. There are two ways of creating plots in matplotlib.\n",
    "\n",
    "1. Functional method\n",
    "2. Object Oriented Method"
   ]
  },
  {
   "cell_type": "markdown",
   "metadata": {},
   "source": [
    "**Functional Method**"
   ]
  },
  {
   "cell_type": "code",
   "execution_count": 28,
   "metadata": {},
   "outputs": [
    {
     "data": {
      "text/plain": [
       "[<matplotlib.lines.Line2D at 0x27082f36710>]"
      ]
     },
     "execution_count": 28,
     "metadata": {},
     "output_type": "execute_result"
    },
    {
     "data": {
      "image/png": "[encoded data removed]",
      "text/plain": [
       "<Figure size 432x288 with 1 Axes>"
      ]
     },
     "metadata": {
      "needs_background": "light"
     },
     "output_type": "display_data"
    }
   ],
   "source": [
    "plt.plot(x, y)"
   ]
  },
  {
   "cell_type": "markdown",
   "metadata": {},
   "source": [
    "**Adding the x label, y label and the plot title**"
   ]
  },
  {
   "cell_type": "code",
   "execution_count": 29,
   "metadata": {},
   "outputs": [
    {
     "data": {
      "text/plain": [
       "Text(0.5, 1.0, 'Title')"
      ]
     },
     "execution_count": 29,
     "metadata": {},
     "output_type": "execute_result"
    },
    {
     "data": {
      "image/png": "[encoded data removed]",
      "text/plain": [
       "<Figure size 432x288 with 1 Axes>"
      ]
     },
     "metadata": {
      "needs_background": "light"
     },
     "output_type": "display_data"
    }
   ],
   "source": [
    "plt.plot(x, y)\n",
    "plt.xlabel(\"X Label\")\n",
    "plt.ylabel(\"Y Label\")\n",
    "plt.title(\"Title\")"
   ]
  },
  {
   "cell_type": "markdown",
   "metadata": {},
   "source": [
    "**Putting Multiplots on the same canvas**"
   ]
  },
  {
   "cell_type": "code",
   "execution_count": 30,
   "metadata": {},
   "outputs": [
    {
     "data": {
      "text/plain": [
       "[<matplotlib.lines.Line2D at 0x27082fe0dd8>]"
      ]
     },
     "execution_count": 30,
     "metadata": {},
     "output_type": "execute_result"
    },
    {
     "data": {
      "image/png": "[encoded data removed]",
      "text/plain": [
       "<Figure size 432x288 with 2 Axes>"
      ]
     },
     "metadata": {
      "needs_background": "light"
     },
     "output_type": "display_data"
    }
   ],
   "source": [
    "# plt.subplot(nrows, ncols, plot_number)\n",
    "plt.subplot(1, 2, 1)\n",
    "# first argument  = number of rows in the subplot\n",
    "# second argument = number of columns in the subplot\n",
    "# third argumeny  = the plot which is being referred to\n",
    "\n",
    "plt.plot(x, y, 'r') # red color\n",
    "\n",
    "# plt.subplot(nrows, ncols, plot_number)\n",
    "plt.subplot(1, 2, 2)\n",
    "# first argument = number of rows in the subplot\n",
    "# second argument = number of columns in the subplot\n",
    "# third argument = the plot which is being referred to\n",
    "\n",
    "plt.plot(y, x, 'b') # blue color"
   ]
  },
  {
   "cell_type": "markdown",
   "metadata": {},
   "source": [
    "**Object oriented method**"
   ]
  },
  {
   "cell_type": "markdown",
   "metadata": {},
   "source": [
    "In the object oriented API method, we instantiate figure objects and then call methods or attributes from that object. Note that it is the preferred way of creating plots in matplotlib."
   ]
  },
  {
   "cell_type": "code",
   "execution_count": 31,
   "metadata": {},
   "outputs": [
    {
     "data": {
      "text/plain": [
       "Text(0.5, 1.0, 'Title')"
      ]
     },
     "execution_count": 31,
     "metadata": {},
     "output_type": "execute_result"
    },
    {
     "data": {
      "image/png": "[encoded data removed]",
      "text/plain": [
       "<Figure size 432x288 with 1 Axes>"
      ]
     },
     "metadata": {
      "needs_background": "light"
     },
     "output_type": "display_data"
    }
   ],
   "source": [
    "# Creating an object of class Figure\n",
    "fig = plt.figure()\n",
    "\n",
    "# Adding a set of axes to the canvas/figure\n",
    "axes = fig.add_axes([0.1, 0.1, 0.8, 0.8])\n",
    "# first parameter  = left of the axes\n",
    "# second parameter = bottom of the axes\n",
    "# third parameter  = width of the axes\n",
    "# fourth parameter = height of the axes\n",
    "# These are the percentages of the blank canvas you'd like to take\n",
    "\n",
    "\n",
    "# Plotting using the set of the axes that we added to the blank canvas\n",
    "axes.plot(x, y)\n",
    "\n",
    "# Setting the x and y axes labels and also the title\n",
    "axes.set_xlabel('X Label')\n",
    "axes.set_ylabel('Y Label')\n",
    "axes.set_title('Title')"
   ]
  },
  {
   "cell_type": "markdown",
   "metadata": {},
   "source": [
    "Let us go ahead and put two set of axes on the blank canvas to gain more intricate knowledge about we set them up using the percentages [0.1, 0.1, 0.8, 0.8]"
   ]
  },
  {
   "cell_type": "code",
   "execution_count": 32,
   "metadata": {},
   "outputs": [
    {
     "data": {
      "image/png": "[encoded data removed]",
      "text/plain": [
       "<Figure size 432x288 with 2 Axes>"
      ]
     },
     "metadata": {
      "needs_background": "light"
     },
     "output_type": "display_data"
    }
   ],
   "source": [
    "# Creating an object of class figure\n",
    "fig = plt.figure()\n",
    "\n",
    "# Adding a set of axes to the blank canvas/figure\n",
    "axes1 = fig.add_axes([0.1, 0.1, 0.8, 0.8])\n",
    "# Adding a second set of axes to the blank canvas/figure\n",
    "axes2 = fig.add_axes([0.2, 0.5, 0.4, 0.3])\n",
    "\n",
    "# reference: - left, bottom, width and height of the set of axes"
   ]
  },
  {
   "cell_type": "markdown",
   "metadata": {},
   "source": [
    "The left of axes2 starts 20% from the left of the blank canvas, its bottoom starts 50% from the bottom of the blank canvas. It then covers 40% of the canvas' width and 30% of the canvas' height.\n",
    "\n",
    "The reference is the origin of the blank canvas. The 4 values specifying the axes are always between 0 and 1"
   ]
  },
  {
   "cell_type": "code",
   "execution_count": 33,
   "metadata": {},
   "outputs": [
    {
     "data": {
      "text/plain": [
       "Text(0, 0.5, 'Small Y label')"
      ]
     },
     "execution_count": 33,
     "metadata": {},
     "output_type": "execute_result"
    },
    {
     "data": {
      "image/png": "[encoded data removed]",
      "text/plain": [
       "<Figure size 432x288 with 2 Axes>"
      ]
     },
     "metadata": {
      "needs_background": "light"
     },
     "output_type": "display_data"
    }
   ],
   "source": [
    "# Creating an object of class figure\n",
    "fig = plt.figure()\n",
    "# This is just like an imaginary blank canvas\n",
    "\n",
    "# Adding a set of axes to the blank canvas/figure\n",
    "axes1 = fig.add_axes([0.1, 0.1, 0.8, 0.8])\n",
    "\n",
    "# Adding another set of axes to the blank canvas/figure\n",
    "axes2 = fig.add_axes([0.2, 0.5, 0.4, 0.3])\n",
    "\n",
    "\n",
    "# Plotting the graph of axes1\n",
    "axes1.plot(x, y)\n",
    "\n",
    "# PLotting the graph of axes2\n",
    "axes2.plot(y, x)\n",
    "\n",
    "# Setting the title, x and y label for axes1\n",
    "axes1.set_title(\"Larger Plot\")\n",
    "axes1.set_xlabel(\"Large X label\")\n",
    "axes1.set_ylabel(\"Large Y label\")\n",
    "\n",
    "# Setting the title, x and y label for axes2\n",
    "axes2.set_title(\"Smaller Plot\")\n",
    "axes2.set_xlabel(\"Small X label\")\n",
    "axes2.set_ylabel(\"Small Y label\")"
   ]
  },
  {
   "cell_type": "markdown",
   "metadata": {},
   "source": [
    "**Creating subplots using object oriented method**"
   ]
  },
  {
   "cell_type": "markdown",
   "metadata": {},
   "source": [
    "The plt.subplots() will act as an automatic axis manager."
   ]
  },
  {
   "cell_type": "code",
   "execution_count": 40,
   "metadata": {},
   "outputs": [
    {
     "data": {
      "image/png": "[encoded data removed]",
      "text/plain": [
       "<Figure size 432x288 with 2 Axes>"
      ]
     },
     "metadata": {
      "needs_background": "light"
     },
     "output_type": "display_data"
    }
   ],
   "source": [
    "# Creating a blank canvas and a set of axes\n",
    "fig, axes = plt.subplots(nrows=1, ncols=2)\n",
    "# The above function returns a blank canvas/figure and an array of matplotlib axes\n",
    "\n",
    "# plotting data on the first axes\n",
    "axes[0].plot(x, y)\n",
    "\n",
    "# plotting data on the second axes\n",
    "axes[1].plot(y, x)\n",
    "\n",
    "# setting the title on the first axes\n",
    "axes[0].set_title(\"First Axis\")\n",
    "\n",
    "# setting the title on the second axes\n",
    "axes[1].set_title(\"Second Axis\")\n",
    "\n",
    "# Sometimes the subplots we create might overlap with each other due to the lack of space\n",
    "# We can invoke the tight_layout() method to space them appropriately\n",
    "plt.tight_layout()"
   ]
  },
  {
   "cell_type": "markdown",
   "metadata": {},
   "source": [
    "A common issue with matplotlib is overlapping subplots or figures. We can use **fig.tight_layout()** or **plt.tight_layout()** method, which automatically adjusts the positions of the axes on the figure canvas so that there is no overlapping content:"
   ]
  },
  {
   "cell_type": "code",
   "execution_count": 41,
   "metadata": {},
   "outputs": [
    {
     "data": {
      "image/png": "[encoded data removed]",
      "text/plain": [
       "<Figure size 432x288 with 9 Axes>"
      ]
     },
     "metadata": {
      "needs_background": "light"
     },
     "output_type": "display_data"
    }
   ],
   "source": [
    "fig, axes = plt.subplots(nrows=3, ncols=3)"
   ]
  },
  {
   "cell_type": "code",
   "execution_count": 42,
   "metadata": {},
   "outputs": [
    {
     "data": {
      "image/png": "[encoded data removed]",
      "text/plain": [
       "<Figure size 432x288 with 9 Axes>"
      ]
     },
     "metadata": {
      "needs_background": "light"
     },
     "output_type": "display_data"
    }
   ],
   "source": [
    "fig, axes = plt.subplots(nrows=3, ncols=3)\n",
    "plt.tight_layout()"
   ]
  },
  {
   "cell_type": "markdown",
   "metadata": {},
   "source": [
    "## Figure Size, Aspect Ratio and DPI"
   ]
  },
  {
   "cell_type": "code",
   "execution_count": 45,
   "metadata": {},
   "outputs": [
    {
     "data": {
      "text/plain": [
       "<Figure size 300x200 with 0 Axes>"
      ]
     },
     "metadata": {},
     "output_type": "display_data"
    }
   ],
   "source": [
    "fig = plt.figure(figsize=(3,2), dpi=100)\n",
    "# The tuple passed as the value of parameter \"figsize\" is for representing width and height in inches.\n",
    "# dpi stands for dots per inch or pixels per inch"
   ]
  },
  {
   "cell_type": "code",
   "execution_count": 49,
   "metadata": {},
   "outputs": [
    {
     "data": {
      "text/plain": [
       "[<matplotlib.lines.Line2D at 0x2708514d550>]"
      ]
     },
     "execution_count": 49,
     "metadata": {},
     "output_type": "execute_result"
    },
    {
     "data": {
      "image/png": "[encoded data removed]",
      "text/plain": [
       "<Figure size 216x144 with 1 Axes>"
      ]
     },
     "metadata": {
      "needs_background": "light"
     },
     "output_type": "display_data"
    }
   ],
   "source": [
    "# Creating an object of class figure\n",
    "fig = plt.figure(figsize=(3, 2))\n",
    "# This is like an imaginary blank canvas\n",
    "\n",
    "# Adding a set of axes to the blank canvas\n",
    "axes = fig.add_axes([0, 0, 1, 1])\n",
    "\n",
    "# Plotting on the axes\n",
    "axes.plot(x, y)"
   ]
  },
  {
   "cell_type": "code",
   "execution_count": 53,
   "metadata": {},
   "outputs": [
    {
     "data": {
      "image/png": "[encoded data removed]",
      "text/plain": [
       "<Figure size 360x144 with 2 Axes>"
      ]
     },
     "metadata": {
      "needs_background": "light"
     },
     "output_type": "display_data"
    }
   ],
   "source": [
    "# The same can be done with the subplots\n",
    "fig, axes = plt.subplots(nrows=2, ncols=1, figsize=(5,2))\n",
    "\n",
    "# plotting on the first axis\n",
    "axes[0].plot(x, y)\n",
    "\n",
    "# plotting on the second axis\n",
    "axes[1].plot(y, x)\n",
    "\n",
    "# space the graphs appropriately\n",
    "plt.tight_layout()"
   ]
  },
  {
   "cell_type": "markdown",
   "metadata": {},
   "source": [
    "**Saving a figure**"
   ]
  },
  {
   "cell_type": "code",
   "execution_count": 54,
   "metadata": {},
   "outputs": [],
   "source": [
    "# To save a figure as a file, we can use the savefig() method\n",
    "fig.savefig(fname='save_fig.png')"
   ]
  },
  {
   "cell_type": "markdown",
   "metadata": {},
   "source": [
    "**Adding a legend to the plot**"
   ]
  },
  {
   "cell_type": "code",
   "execution_count": 60,
   "metadata": {},
   "outputs": [
    {
     "data": {
      "text/plain": [
       "<matplotlib.legend.Legend at 0x270854f7cf8>"
      ]
     },
     "execution_count": 60,
     "metadata": {},
     "output_type": "execute_result"
    },
    {
     "data": {
      "image/png": "[encoded data removed]",
      "text/plain": [
       "<Figure size 432x288 with 1 Axes>"
      ]
     },
     "metadata": {
      "needs_background": "light"
     },
     "output_type": "display_data"
    }
   ],
   "source": [
    "# Creating an object of class figure\n",
    "fig = plt.figure()\n",
    "# This is like an imaginary blank canvas\n",
    "\n",
    "# Adding a set of axes to the blank canvas/figure\n",
    "axes = fig.add_axes([0, 0, 1, 1])\n",
    "\n",
    "# plotting the data (x,y) on the axes we created\n",
    "axes.plot(x,y, label='X')\n",
    "\n",
    "# setting the title of the axes\n",
    "axes.set_title('Title')\n",
    "\n",
    "# plotting the data (y, x) on the axes we created\n",
    "axes.plot(y, x, label='Y')\n",
    "\n",
    "# adding a legend to the plot through the axes object\n",
    "axes.legend(loc='best') # finding the \"best\" location for the legend "
   ]
  }
 ],
 "metadata": {
  "kernelspec": {
   "display_name": "Python 3",
   "language": "python",
   "name": "python3"
  },
  "language_info": {
   "codemirror_mode": {
    "name": "ipython",
    "version": 3
   },
   "file_extension": ".py",
   "mimetype": "text/x-python",
   "name": "python",
   "nbconvert_exporter": "python",
   "pygments_lexer": "ipython3",
   "version": "3.7.1"
  }
 },
 "nbformat": 4,
 "nbformat_minor": 2
}
